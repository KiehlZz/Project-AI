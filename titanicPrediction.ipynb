{
 "cells": [
  {
   "cell_type": "markdown",
   "metadata": {},
   "source": [
    "## Titanic Prediction\n"
   ]
  },
  {
   "cell_type": "markdown",
   "metadata": {},
   "source": [
    "### Cleaning"
   ]
  },
  {
   "cell_type": "code",
   "execution_count": 23,
   "metadata": {},
   "outputs": [
    {
     "name": "stdout",
     "output_type": "stream",
     "text": [
      "\n",
      "Data cleaning complete.\n"
     ]
    },
    {
     "name": "stderr",
     "output_type": "stream",
     "text": [
      "C:\\Users\\yosak\\AppData\\Local\\Temp\\ipykernel_10604\\2360684782.py:23: FutureWarning: A value is trying to be set on a copy of a DataFrame or Series through chained assignment using an inplace method.\n",
      "The behavior will change in pandas 3.0. This inplace method will never work because the intermediate object on which we are setting values always behaves as a copy.\n",
      "\n",
      "For example, when doing 'df[col].method(value, inplace=True)', try using 'df.method({col: value}, inplace=True)' or df[col] = df[col].method(value) instead, to perform the operation inplace on the original object.\n",
      "\n",
      "\n",
      "  train['Age'].fillna(train['Age'].median(), inplace=True)\n",
      "C:\\Users\\yosak\\AppData\\Local\\Temp\\ipykernel_10604\\2360684782.py:24: FutureWarning: A value is trying to be set on a copy of a DataFrame or Series through chained assignment using an inplace method.\n",
      "The behavior will change in pandas 3.0. This inplace method will never work because the intermediate object on which we are setting values always behaves as a copy.\n",
      "\n",
      "For example, when doing 'df[col].method(value, inplace=True)', try using 'df.method({col: value}, inplace=True)' or df[col] = df[col].method(value) instead, to perform the operation inplace on the original object.\n",
      "\n",
      "\n",
      "  test['Age'].fillna(test['Age'].median(), inplace=True)\n",
      "C:\\Users\\yosak\\AppData\\Local\\Temp\\ipykernel_10604\\2360684782.py:25: FutureWarning: A value is trying to be set on a copy of a DataFrame or Series through chained assignment using an inplace method.\n",
      "The behavior will change in pandas 3.0. This inplace method will never work because the intermediate object on which we are setting values always behaves as a copy.\n",
      "\n",
      "For example, when doing 'df[col].method(value, inplace=True)', try using 'df.method({col: value}, inplace=True)' or df[col] = df[col].method(value) instead, to perform the operation inplace on the original object.\n",
      "\n",
      "\n",
      "  train['Embarked'].fillna(train['Embarked'].mode()[0], inplace=True)\n",
      "C:\\Users\\yosak\\AppData\\Local\\Temp\\ipykernel_10604\\2360684782.py:26: FutureWarning: A value is trying to be set on a copy of a DataFrame or Series through chained assignment using an inplace method.\n",
      "The behavior will change in pandas 3.0. This inplace method will never work because the intermediate object on which we are setting values always behaves as a copy.\n",
      "\n",
      "For example, when doing 'df[col].method(value, inplace=True)', try using 'df.method({col: value}, inplace=True)' or df[col] = df[col].method(value) instead, to perform the operation inplace on the original object.\n",
      "\n",
      "\n",
      "  test['Embarked'].fillna(test['Embarked'].mode()[0], inplace=True)\n",
      "C:\\Users\\yosak\\AppData\\Local\\Temp\\ipykernel_10604\\2360684782.py:27: FutureWarning: A value is trying to be set on a copy of a DataFrame or Series through chained assignment using an inplace method.\n",
      "The behavior will change in pandas 3.0. This inplace method will never work because the intermediate object on which we are setting values always behaves as a copy.\n",
      "\n",
      "For example, when doing 'df[col].method(value, inplace=True)', try using 'df.method({col: value}, inplace=True)' or df[col] = df[col].method(value) instead, to perform the operation inplace on the original object.\n",
      "\n",
      "\n",
      "  test['Fare'].fillna(test['Fare'].median(), inplace=True)\n"
     ]
    }
   ],
   "source": [
    "import pandas as pd\n",
    "import numpy as np\n",
    "import tensorflow as tf\n",
    "import matplotlib.pyplot as plt\n",
    "import statsmodels.api as sm\n",
    "from sklearn.model_selection import train_test_split\n",
    "from sklearn.ensemble import RandomForestClassifier\n",
    "from sklearn.metrics import accuracy_score, classification_report, confusion_matrix\n",
    "from tensorflow.keras.models import Sequential\n",
    "from tensorflow.keras.layers import Dense\n",
    "\n",
    "# Load the datasets\n",
    "gender_submission = pd.read_csv('gender_submission.csv')\n",
    "test = pd.read_csv('test.csv')\n",
    "train = pd.read_csv('train.csv')\n",
    "\n",
    "# Drop columns that are unnecessary or irrelevant for the analysis\n",
    "columns_to_drop = ['Cabin', 'Ticket', 'Name']\n",
    "train = train.drop(columns=columns_to_drop, errors='ignore')\n",
    "test = test.drop(columns=columns_to_drop, errors='ignore')\n",
    "\n",
    "# Handle missing values\n",
    "train['Age'].fillna(train['Age'].median(), inplace=True)\n",
    "test['Age'].fillna(test['Age'].median(), inplace=True)\n",
    "train['Embarked'].fillna(train['Embarked'].mode()[0], inplace=True)\n",
    "test['Embarked'].fillna(test['Embarked'].mode()[0], inplace=True)\n",
    "test['Fare'].fillna(test['Fare'].median(), inplace=True)\n",
    "\n",
    "# Convert categorical variables to numerical\n",
    "train = pd.get_dummies(train, columns=['Sex', 'Embarked'], drop_first=True)\n",
    "test = pd.get_dummies(test, columns=['Sex', 'Embarked'], drop_first=True)\n",
    "\n",
    "# Ensure both train and test datasets have the same columns\n",
    "missing_cols = set(train.columns) - set(test.columns)\n",
    "for col in missing_cols:\n",
    "    if col != 'Survived':\n",
    "        test[col] = 0\n",
    "\n",
    "test = test[train.columns.drop('Survived')]\n",
    "\n",
    "# Save cleaned datasets\n",
    "train.to_csv('cleaned_train.csv', index=False)\n",
    "test.to_csv('cleaned_test.csv', index=False)\n",
    "\n",
    "print(\"\\nData cleaning complete.\")"
   ]
  },
  {
   "cell_type": "markdown",
   "metadata": {},
   "source": [
    "### Train/Test"
   ]
  },
  {
   "cell_type": "code",
   "execution_count": 24,
   "metadata": {},
   "outputs": [],
   "source": [
    "# Split the training data into features and target\n",
    "X = train.drop('Survived', axis=1).values\n",
    "y = train['Survived'].values\n",
    "\n",
    "# Split the training data into training and validation sets\n",
    "X_train, X_val, y_train, y_val = train_test_split(X, y, test_size=0.2, random_state=42)"
   ]
  },
  {
   "cell_type": "markdown",
   "metadata": {},
   "source": [
    "### Modelling"
   ]
  },
  {
   "cell_type": "code",
   "execution_count": 25,
   "metadata": {},
   "outputs": [
    {
     "ename": "TypeError",
     "evalue": "loop of ufunc does not support argument 0 of type float which has no callable exp method",
     "output_type": "error",
     "traceback": [
      "\u001b[1;31m---------------------------------------------------------------------------\u001b[0m",
      "\u001b[1;31mAttributeError\u001b[0m                            Traceback (most recent call last)",
      "\u001b[1;31mAttributeError\u001b[0m: 'float' object has no attribute 'exp'",
      "\nThe above exception was the direct cause of the following exception:\n",
      "\u001b[1;31mTypeError\u001b[0m                                 Traceback (most recent call last)",
      "Cell \u001b[1;32mIn[25], line 18\u001b[0m\n\u001b[0;32m     16\u001b[0m linear_model \u001b[38;5;241m=\u001b[39m np\u001b[38;5;241m.\u001b[39mdot(X_train, weights) \u001b[38;5;241m+\u001b[39m bias\n\u001b[0;32m     17\u001b[0m \u001b[38;5;66;03m# Prediction\u001b[39;00m\n\u001b[1;32m---> 18\u001b[0m y_predicted \u001b[38;5;241m=\u001b[39m sigmoid(linear_model)\n\u001b[0;32m     20\u001b[0m \u001b[38;5;66;03m# Compute gradients\u001b[39;00m\n\u001b[0;32m     21\u001b[0m dw \u001b[38;5;241m=\u001b[39m (\u001b[38;5;241m1\u001b[39m \u001b[38;5;241m/\u001b[39m \u001b[38;5;28mlen\u001b[39m(y_train)) \u001b[38;5;241m*\u001b[39m np\u001b[38;5;241m.\u001b[39mdot(X_train\u001b[38;5;241m.\u001b[39mT, (y_predicted \u001b[38;5;241m-\u001b[39m y_train))\n",
      "Cell \u001b[1;32mIn[25], line 11\u001b[0m, in \u001b[0;36msigmoid\u001b[1;34m(z)\u001b[0m\n\u001b[0;32m     10\u001b[0m \u001b[38;5;28;01mdef\u001b[39;00m \u001b[38;5;21msigmoid\u001b[39m(z):\n\u001b[1;32m---> 11\u001b[0m     \u001b[38;5;28;01mreturn\u001b[39;00m \u001b[38;5;241m1\u001b[39m \u001b[38;5;241m/\u001b[39m (\u001b[38;5;241m1\u001b[39m \u001b[38;5;241m+\u001b[39m np\u001b[38;5;241m.\u001b[39mexp(\u001b[38;5;241m-\u001b[39mz))\n",
      "\u001b[1;31mTypeError\u001b[0m: loop of ufunc does not support argument 0 of type float which has no callable exp method"
     ]
    }
   ],
   "source": [
    "# Train a logistic regression model using gradient descent\n",
    "# Initialize parameters\n",
    "n_features = X_train.shape[1]\n",
    "weights = np.zeros(n_features)\n",
    "bias = 0\n",
    "learning_rate = 0.01\n",
    "n_iterations = 10000\n",
    "\n",
    "# Sigmoid function\n",
    "def sigmoid(z):\n",
    "    return 1 / (1 + np.exp(-z))\n",
    "\n",
    "# Training the model using gradient descent\n",
    "for i in range(n_iterations):\n",
    "    # Linear model\n",
    "    linear_model = np.dot(X_train, weights) + bias\n",
    "    # Prediction\n",
    "    y_predicted = sigmoid(linear_model)\n",
    "    \n",
    "    # Compute gradients\n",
    "    dw = (1 / len(y_train)) * np.dot(X_train.T, (y_predicted - y_train))\n",
    "    db = (1 / len(y_train)) * np.sum(y_predicted - y_train)\n",
    "    \n",
    "    # Update parameters\n",
    "    weights -= learning_rate * dw\n",
    "    bias -= learning_rate * db\n",
    "\n",
    "# Train a simple neural network model using TensorFlow\n",
    "model = Sequential()\n",
    "model.add(Dense(16, input_dim=n_features, activation='relu'))\n",
    "model.add(Dense(8, activation='relu'))\n",
    "model.add(Dense(1, activation='sigmoid'))\n",
    "\n",
    "model.compile(optimizer='adam', loss='binary_crossentropy', metrics=['accuracy'])\n",
    "model.fit(X_train, y_train, epochs=100, batch_size=10, validation_data=(X_val, y_val))"
   ]
  },
  {
   "cell_type": "markdown",
   "metadata": {},
   "source": [
    "### Prediction"
   ]
  },
  {
   "cell_type": "code",
   "execution_count": 26,
   "metadata": {},
   "outputs": [
    {
     "ename": "TypeError",
     "evalue": "loop of ufunc does not support argument 0 of type float which has no callable exp method",
     "output_type": "error",
     "traceback": [
      "\u001b[1;31m---------------------------------------------------------------------------\u001b[0m",
      "\u001b[1;31mAttributeError\u001b[0m                            Traceback (most recent call last)",
      "\u001b[1;31mAttributeError\u001b[0m: 'float' object has no attribute 'exp'",
      "\nThe above exception was the direct cause of the following exception:\n",
      "\u001b[1;31mTypeError\u001b[0m                                 Traceback (most recent call last)",
      "Cell \u001b[1;32mIn[26], line 3\u001b[0m\n\u001b[0;32m      1\u001b[0m \u001b[38;5;66;03m# Make predictions on the validation set using gradient descent model\u001b[39;00m\n\u001b[0;32m      2\u001b[0m linear_model_val \u001b[38;5;241m=\u001b[39m np\u001b[38;5;241m.\u001b[39mdot(X_val, weights) \u001b[38;5;241m+\u001b[39m bias\n\u001b[1;32m----> 3\u001b[0m y_pred_val \u001b[38;5;241m=\u001b[39m sigmoid(linear_model_val)\n\u001b[0;32m      4\u001b[0m y_pred_class \u001b[38;5;241m=\u001b[39m [\u001b[38;5;241m1\u001b[39m \u001b[38;5;28;01mif\u001b[39;00m i \u001b[38;5;241m>\u001b[39m \u001b[38;5;241m0.5\u001b[39m \u001b[38;5;28;01melse\u001b[39;00m \u001b[38;5;241m0\u001b[39m \u001b[38;5;28;01mfor\u001b[39;00m i \u001b[38;5;129;01min\u001b[39;00m y_pred_val]\n\u001b[0;32m      6\u001b[0m \u001b[38;5;66;03m# Make predictions on the validation set using neural network model\u001b[39;00m\n",
      "Cell \u001b[1;32mIn[25], line 11\u001b[0m, in \u001b[0;36msigmoid\u001b[1;34m(z)\u001b[0m\n\u001b[0;32m     10\u001b[0m \u001b[38;5;28;01mdef\u001b[39;00m \u001b[38;5;21msigmoid\u001b[39m(z):\n\u001b[1;32m---> 11\u001b[0m     \u001b[38;5;28;01mreturn\u001b[39;00m \u001b[38;5;241m1\u001b[39m \u001b[38;5;241m/\u001b[39m (\u001b[38;5;241m1\u001b[39m \u001b[38;5;241m+\u001b[39m np\u001b[38;5;241m.\u001b[39mexp(\u001b[38;5;241m-\u001b[39mz))\n",
      "\u001b[1;31mTypeError\u001b[0m: loop of ufunc does not support argument 0 of type float which has no callable exp method"
     ]
    }
   ],
   "source": [
    "# Make predictions on the validation set using gradient descent model\n",
    "linear_model_val = np.dot(X_val, weights) + bias\n",
    "y_pred_val = sigmoid(linear_model_val)\n",
    "y_pred_class = [1 if i > 0.5 else 0 for i in y_pred_val]\n",
    "\n",
    "# Make predictions on the validation set using neural network model\n",
    "y_pred_nn_val = model.predict(X_val)\n",
    "y_pred_nn_class = [1 if i > 0.5 else 0 for i in y_pred_nn_val]\n",
    "\n",
    "# Make predictions on the test set using gradient descent model\n",
    "linear_model_test = np.dot(test.values, weights) + bias\n",
    "y_pred_test = sigmoid(linear_model_test)\n",
    "test_predictions = [1 if i > 0.5 else 0 for i in y_pred_test]\n",
    "\n",
    "# Make predictions on the test set using neural network model\n",
    "y_pred_nn_test = model.predict(test.values)\n",
    "test_predictions_nn = [1 if i > 0.5 else 0 for i in y_pred_nn_test]\n",
    "\n",
    "# Save predictions\n",
    "gender_submission['Survived'] = test_predictions_nn\n",
    "gender_submission.to_csv('submission.csv', index=False)\n",
    "\n",
    "print(\"\\nTraining, testing, and prediction complete. Predictions saved to '/mnt/data/'\")\n"
   ]
  },
  {
   "cell_type": "markdown",
   "metadata": {},
   "source": [
    "### Evaluvation"
   ]
  },
  {
   "cell_type": "code",
   "execution_count": null,
   "metadata": {},
   "outputs": [],
   "source": [
    "# Evaluate the gradient descent model\n",
    "accuracy = accuracy_score(y_val, y_pred_class)\n",
    "print(\"\\nLogistic Regression Accuracy on validation set:\", accuracy)\n",
    "print(\"\\nClassification Report:\")\n",
    "print(classification_report(y_val, y_pred_class))\n",
    "print(\"\\nConfusion Matrix:\")\n",
    "print(confusion_matrix(y_val, y_pred_class))\n",
    "\n",
    "# Evaluate the neural network model\n",
    "nn_accuracy = accuracy_score(y_val, y_pred_nn_class)\n",
    "print(\"\\nNeural Network Accuracy on validation set:\", nn_accuracy)\n",
    "print(\"\\nClassification Report:\")\n",
    "print(classification_report(y_val, y_pred_nn_class))\n",
    "print(\"\\nConfusion Matrix:\")\n",
    "print(confusion_matrix(y_val, y_pred_nn_class))\n"
   ]
  }
 ],
 "metadata": {
  "kernelspec": {
   "display_name": "se411_Final_Project",
   "language": "python",
   "name": "python3"
  },
  "language_info": {
   "codemirror_mode": {
    "name": "ipython",
    "version": 3
   },
   "file_extension": ".py",
   "mimetype": "text/x-python",
   "name": "python",
   "nbconvert_exporter": "python",
   "pygments_lexer": "ipython3",
   "version": "3.12.7"
  }
 },
 "nbformat": 4,
 "nbformat_minor": 2
}
